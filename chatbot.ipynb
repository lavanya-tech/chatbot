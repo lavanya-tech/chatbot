{
  "nbformat": 4,
  "nbformat_minor": 0,
  "metadata": {
    "colab": {
      "name": "chatbot.ipynb",
      "provenance": [],
      "collapsed_sections": []
    },
    "kernelspec": {
      "name": "python3",
      "display_name": "Python 3"
    },
    "language_info": {
      "name": "python"
    }
  },
  "cells": [
    {
      "cell_type": "code",
      "execution_count": null,
      "metadata": {
        "id": "P03UOXxOJz-a"
      },
      "outputs": [],
      "source": [
        "# pip install chatterbot"
      ]
    },
    {
      "cell_type": "code",
      "source": [
        "# pip install chatterbot_corpus"
      ],
      "metadata": {
        "id": "-GGxB6rBJ35_"
      },
      "execution_count": null,
      "outputs": []
    },
    {
      "cell_type": "code",
      "source": [
        "from chatterbot import ChatBot\n",
        "from chatterbot.trainers import ListTrainer"
      ],
      "metadata": {
        "id": "HSfg2Fb0KJVv"
      },
      "execution_count": null,
      "outputs": []
    },
    {
      "cell_type": "code",
      "source": [
        "my_bot = ChatBot(name = 'Pybot', read_only = True,logic_adapters = ['chatterbot.logic.MathematicalEvaluation','chatterbot.logic.BestMatch']) "
      ],
      "metadata": {
        "id": "jflm6IQEKi7y"
      },
      "execution_count": null,
      "outputs": []
    },
    {
      "cell_type": "code",
      "source": [
        "small_talk = [\n",
        "              'hi there!',\n",
        "              'hi',\n",
        "              'how do you do',\n",
        "              'i\\'m coo',\n",
        "              'fine, you',\n",
        "              'always cool',\n",
        "              'i\\'m ok',\n",
        "              'glad to hear that.',\n",
        "              'i\\'m fine',\n",
        "              'glad to hear that.',\n",
        "              'i feel awesome',\n",
        "              'excellent, glad to hear that.',\n",
        "              'not so good',\n",
        "              'sorry to hear that.',\n",
        "              'what\\'s your name?',\n",
        "              'i\\'m pybot. ask me a math question, please.'\n",
        "]\n",
        "\n",
        "math_talk_1 = ['pythagorean theorem',\n",
        "               'a squared plus b squared equals c square.']\n",
        "\n",
        "math_talk_2 = ['law of cosines',\n",
        "               'c**2 = a**2 + b**2 - 2 * a * b * cos(gamma)']"
      ],
      "metadata": {
        "id": "4vNVwYw7LaMv"
      },
      "execution_count": null,
      "outputs": []
    },
    {
      "cell_type": "code",
      "source": [
        "list_trainer = ListTrainer(my_bot)\n",
        "for item in (small_talk, math_talk_1, math_talk_2):\n",
        "  list_trainer.train(item)"
      ],
      "metadata": {
        "colab": {
          "base_uri": "https://localhost:8080/"
        },
        "id": "U5mL8J2lMurC",
        "outputId": "486f1440-33e2-45cc-a61d-1fdf040983d2"
      },
      "execution_count": null,
      "outputs": [
        {
          "output_type": "stream",
          "name": "stdout",
          "text": [
            "List Trainer: [####################] 100%\n",
            "List Trainer: [####################] 100%\n",
            "List Trainer: [####################] 100%\n"
          ]
        }
      ]
    },
    {
      "cell_type": "code",
      "source": [
        "print(my_bot.get_response(\"hi\"))"
      ],
      "metadata": {
        "colab": {
          "base_uri": "https://localhost:8080/"
        },
        "id": "YEKFJ_B6NDdF",
        "outputId": "5be264c1-c0f3-4d13-9cdb-32314c031252"
      },
      "execution_count": null,
      "outputs": [
        {
          "output_type": "stream",
          "name": "stdout",
          "text": [
            "how do you do\n"
          ]
        }
      ]
    },
    {
      "cell_type": "code",
      "source": [
        "print(my_bot.get_response(\"what\\'s your name?\"))"
      ],
      "metadata": {
        "colab": {
          "base_uri": "https://localhost:8080/"
        },
        "id": "o-uI07sTjXmV",
        "outputId": "1b7c8c64-c945-40fc-b5ef-cd6b38eaed10"
      },
      "execution_count": null,
      "outputs": [
        {
          "output_type": "stream",
          "name": "stdout",
          "text": [
            "i'm pybot. ask me a math question, please.\n"
          ]
        }
      ]
    },
    {
      "cell_type": "code",
      "source": [
        "print(my_bot.get_response(\"law of cosines\"))"
      ],
      "metadata": {
        "colab": {
          "base_uri": "https://localhost:8080/"
        },
        "id": "gjP4o4HwjedE",
        "outputId": "f8ebaeed-f7a0-4afb-f2cb-09b56d2beba8"
      },
      "execution_count": null,
      "outputs": [
        {
          "output_type": "stream",
          "name": "stdout",
          "text": [
            "c**2 = a**2 + b**2 - 2 * a * b * cos(gamma)\n"
          ]
        }
      ]
    },
    {
      "cell_type": "code",
      "source": [
        ""
      ],
      "metadata": {
        "id": "fp6bBZL8joUy"
      },
      "execution_count": null,
      "outputs": []
    }
  ]
}